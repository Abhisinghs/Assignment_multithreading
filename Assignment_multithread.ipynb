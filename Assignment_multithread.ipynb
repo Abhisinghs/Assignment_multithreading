{
 "cells": [
  {
   "cell_type": "code",
   "execution_count": null,
   "id": "bcba17e9-0c48-489c-b8f8-59c10cc13e5e",
   "metadata": {},
   "outputs": [],
   "source": [
    "#Answer_1\n",
    "\n",
    "when multiple process can execute concurrently by switching the thread with the help of cpu.\n",
    "we use the multithreading because minimize the system resource usage and better utilization of memory and cpu.\n",
    "\n",
    "basically two module are used to implement the multithreading\n",
    "1.thread\n",
    "2.threading\n",
    "\n",
    "but now a day threading module are use to implement the multithreading concepts."
   ]
  },
  {
   "cell_type": "code",
   "execution_count": null,
   "id": "c0ee9dbf-b33b-4df0-8a51-2895f8eb06ad",
   "metadata": {},
   "outputs": [],
   "source": [
    "#Answer_2\n",
    "\n",
    " threading module is used for creating, controlling and managing threads in python.\n",
    "    \n",
    "threading.activeCount() − Returns the number of thread objects that are active. \n",
    "threading.currentThread() − Returns the number of thread objects in the caller's thread control. \n",
    "threading.enumerate() − Returns a list of all thread objects that are currently active"
   ]
  },
  {
   "cell_type": "code",
   "execution_count": null,
   "id": "19b40443-1712-409d-bec0-fc8e837ee9ec",
   "metadata": {},
   "outputs": [],
   "source": [
    "#Answer_3\n",
    "\n",
    "start()\n",
    "\n",
    "Start the thread’s activity.\n",
    "It must be called at most once per thread object. It arranges for the object’s run()\n",
    "method to be invoked in a separate thread of control.\n",
    "This method will raise a RuntimeError if called more than once on the same thread object.\n",
    "\n",
    "run()\n",
    "\n",
    "Method representing the thread’s activity.\n",
    "You may override this method in a subclass. The standard run() \n",
    "method invokes the callable object passed to the object’s constructor as the target argument, if any, with positional and keyword arguments taken from the args and kwargs arguments, respectively.\n",
    "Using list or tuple as the args argument which passed to the Thread\n",
    "could achieve the same effect."
   ]
  },
  {
   "cell_type": "code",
   "execution_count": 9,
   "id": "d8627ee1-b0fe-4637-b744-ceff4cf33515",
   "metadata": {},
   "outputs": [
    {
     "name": "stdout",
     "output_type": "stream",
     "text": [
      "1\n",
      "1\n"
     ]
    }
   ],
   "source": [
    "from threading import Thread\n",
    "t = Thread(target=print, args=[1])\n",
    "t.run()\n",
    "t = Thread(target=print, args=(1,))\n",
    "t.run()"
   ]
  },
  {
   "cell_type": "code",
   "execution_count": null,
   "id": "94bf02d3-4e8f-488a-a58d-c4e7da3d081a",
   "metadata": {},
   "outputs": [],
   "source": [
    "In concurrent programming, we may need to wait until another thread has finished running. \n",
    "This may be for many reasons, such as:\n",
    "\n",
    "The current thread needs a result from the target thread.\n",
    "A resource is shared between the current and target threads.\n",
    "The current thread has no other work to complete.\n",
    "\n",
    "The join() method provides a way for one thread to block until another thread has finished.\n",
    "\n",
    "thread.join()"
   ]
  },
  {
   "cell_type": "code",
   "execution_count": null,
   "id": "a2c3fb5b-08ef-4500-8ebd-479d30e769f3",
   "metadata": {},
   "outputs": [],
   "source": [
    "Thread.is_alive() method is an inbuilt method of the Thread class of the threading module in Python.\n",
    "It uses a Thread object, and checks whether that thread is alive or not, ie, it is still running or not.\n",
    "This method returns True before the run() starts until just after the run() method is executed."
   ]
  },
  {
   "cell_type": "code",
   "execution_count": null,
   "id": "1d405b91-d598-4f3f-9fd2-bb0a9e69c212",
   "metadata": {},
   "outputs": [],
   "source": []
  },
  {
   "cell_type": "code",
   "execution_count": 29,
   "id": "32f87e1d-7489-4303-ae47-e9b450babdd7",
   "metadata": {},
   "outputs": [
    {
     "name": "stdout",
     "output_type": "stream",
     "text": [
      "[0, 1, 4]\n",
      "[0, 1, 8, 27]\n"
     ]
    }
   ],
   "source": [
    "#Answer_4\n",
    "\n",
    "import threading\n",
    "\n",
    "#function for square of number\n",
    "sq_list=[]\n",
    "def square(num):\n",
    "    for i in range(num):\n",
    "        sq_list.append(i*i)\n",
    "    print(sq_list)\n",
    "        \n",
    "        \n",
    "#define a function for cube number\n",
    "cb_list=[]\n",
    "def cube(num):\n",
    "    for i in range(num):\n",
    "        cb_list.append(i**3)\n",
    "    print(cb_list)\n",
    "\n",
    "\n",
    "#now create thread\n",
    "thread1=threading.Thread(target=square,args=(3,))\n",
    "thread2=threading.Thread(target=cube,args=(4,))\n",
    "thread1.start()\n",
    "thread2.start()"
   ]
  },
  {
   "cell_type": "code",
   "execution_count": null,
   "id": "7480122f-352e-48ec-803b-4eaccc96187b",
   "metadata": {},
   "outputs": [],
   "source": [
    "#Answer_5\n",
    "\n",
    "\n",
    "advantages of multithreading\n",
    "\n",
    "Python multithreading enables efficient utilization of the resources as the threads share the data space and memory.\n",
    "Multithreading in Python allows the concurrent and parallel occurrence of various tasks.\n",
    "It causes a reduction in time consumption or response time, thereby increasing the performance.\n",
    "\n",
    "disadvantages of multithreading\n",
    "\n",
    "1. Difficulty of writing code\n",
    "2.Difficulty of debugging\n",
    "3.Difficulty of managing concurrency\n",
    "4.The task of managing concurrency among threads is difficult and has the potential to introduce new problems \n",
    "into an application.\n",
    "5.Difficulty of testing\n",
    "6.Testing a multithreaded application is more difficult than testing a single-threaded application \n",
    "because defects are often timing-related and more difficult to reproduce.\n",
    "7.Difficulty of porting existing code"
   ]
  },
  {
   "cell_type": "code",
   "execution_count": null,
   "id": "ff81c696-eacc-4c02-82e9-3960db393c10",
   "metadata": {},
   "outputs": [],
   "source": [
    "#Answer_6\n",
    "\n",
    "when more than one thread can access the same resource at a same time is called deadlock.\n",
    "\n",
    "A race condition occurs when two threads access a shared variable at the same time. The first thread reads the variable, \n",
    "and the second thread reads the same value from the variable. Then the first thread and second thread perform their\n",
    "operations on the value, and they race to see which thread can write the value last to the shared variable. The value\n",
    "of the thread that writes its value last is preserved, because the thread is writing over the value that the previous \n",
    "thread wrote."
   ]
  }
 ],
 "metadata": {
  "kernelspec": {
   "display_name": "Python 3 (ipykernel)",
   "language": "python",
   "name": "python3"
  },
  "language_info": {
   "codemirror_mode": {
    "name": "ipython",
    "version": 3
   },
   "file_extension": ".py",
   "mimetype": "text/x-python",
   "name": "python",
   "nbconvert_exporter": "python",
   "pygments_lexer": "ipython3",
   "version": "3.10.8"
  }
 },
 "nbformat": 4,
 "nbformat_minor": 5
}
